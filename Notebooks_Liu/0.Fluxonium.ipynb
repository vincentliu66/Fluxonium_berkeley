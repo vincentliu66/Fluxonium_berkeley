{
 "cells": [
  {
   "cell_type": "markdown",
   "source": [
    "# To learn fundamentals of fluxonium parameter"
   ],
   "metadata": {
    "collapsed": false
   }
  },
  {
   "cell_type": "code",
   "execution_count": 2,
   "outputs": [],
   "source": [
    "import numpy as np\n",
    "import scipy.constants as cs\n",
    "from matplotlib import pyplot as plt\n",
    "from qutip import*\n",
    "from scipy.special import eval_hermite as hpoly\n",
    "import scipy.constants as cst\n",
    "import sys\n",
    "\n",
    "from Fluxonium_hamiltonians import Single_small_junction as fluxonium\n",
    "import matplotlib as mpl"
   ],
   "metadata": {
    "collapsed": false,
    "ExecuteTime": {
     "end_time": "2023-08-01T16:47:40.468066600Z",
     "start_time": "2023-08-01T16:47:38.304320400Z"
    }
   }
  },
  {
   "cell_type": "code",
   "execution_count": 3,
   "outputs": [],
   "source": [
    "# %matplotlib inline # plot the figure inside the Jupyter Notebook\n",
    "%matplotlib tk\n",
    "# plot the figure in a pop out window. It looks very big"
   ],
   "metadata": {
    "collapsed": false,
    "ExecuteTime": {
     "end_time": "2023-08-01T16:47:42.670792200Z",
     "start_time": "2023-08-01T16:47:42.581764700Z"
    }
   }
  },
  {
   "cell_type": "markdown",
   "source": [
    "## This is going to describe the three parameters from fluxonium based on design\n",
    "$$\\LARGE{\\hat{H}/\\hbar = 4E_{C} -E_{J}\\cos{\\hat\\phi}+\\frac{1}{2}E_{L}(\\hat\\phi+\\phi_{\\rm ext})^2}$$, where\n",
    "\n",
    "$$\\LARGE{E_{c} = \\frac{e^2}{2C}}$$, C is the total capacitance\n",
    "$$\\LARGE{E_{J} = \\frac{I_{0s}\\Phi_0}{2\\pi}}$$, $I_{0s}$ is the critical current of the small junction\n",
    "$$\\LARGE{E_{L} = \\frac{I_{0a}\\Phi_0}{N\\times 2\\pi}}$$ $I_{0a}$ is the critical current of one junction of the JJ array and N is the number of the junctions in the JJ array"
   ],
   "metadata": {
    "collapsed": false
   }
  },
  {
   "cell_type": "code",
   "execution_count": 44,
   "outputs": [],
   "source": [
    "# Ec, Ej, El, in units of GHz, get the spectrum\n",
    "N = 30 #number of levels\n",
    "E_J = 4 #Josephson energy, GHz\n",
    "E_C = 1 #Charging energy, GHz\n",
    "E_L = 1 #Inductive energy, GHz\n",
    "level_num = 10\n",
    "phi_ext = np.linspace(0,1,201)\n",
    "energies = np.zeros((len(phi_ext), level_num))\n",
    "states = np.zeros((len(phi_ext), level_num, N))\n",
    "max_display_y = 10"
   ],
   "metadata": {
    "collapsed": false,
    "ExecuteTime": {
     "end_time": "2023-07-31T23:06:20.060807Z",
     "start_time": "2023-07-31T23:06:20.038171400Z"
    }
   }
  },
  {
   "cell_type": "code",
   "execution_count": 45,
   "outputs": [],
   "source": [
    "for idx, phi in enumerate(phi_ext):\n",
    "    H = fluxonium.bare_hamiltonian(N, E_L, E_C, E_J, phi*2*np.pi)\n",
    "    energies[idx, :] = H.eigenenergies()[:level_num]"
   ],
   "metadata": {
    "collapsed": false,
    "ExecuteTime": {
     "end_time": "2023-07-31T23:06:22.352346Z",
     "start_time": "2023-07-31T23:06:20.399928600Z"
    }
   }
  },
  {
   "cell_type": "code",
   "execution_count": 46,
   "outputs": [],
   "source": [
    "figpath = 'C:/Users/Chuanhong/OneDrive/Desktop/Projects/2023Fluxonium/Fluxonium_berkeley_repository_learning/FluxoniumSpectrum/'"
   ],
   "metadata": {
    "collapsed": false,
    "ExecuteTime": {
     "end_time": "2023-07-31T23:06:22.415411700Z",
     "start_time": "2023-07-31T23:06:22.368521500Z"
    }
   }
  },
  {
   "cell_type": "code",
   "execution_count": 48,
   "outputs": [],
   "source": [
    "plt.figure(figsize=[8,6])\n",
    "plt.xlim([phi_ext[0], phi_ext[-1]])\n",
    "plt.ylim([0, 10])\n",
    "ft = 28\n",
    "plt.xticks(fontsize=ft)\n",
    "plt.yticks(fontsize=ft)\n",
    "# plt.ylim([0,max_display_y])\n",
    "plt.xlabel(r'$\\varphi_\\mathrm{ext}/2\\pi$', fontsize = ft)\n",
    "plt.ylabel('Energy (GHz)', fontsize = ft)\n",
    "# plt.ylabel(r'$ \\omega_{ij}/2\\pi$  (GHz)')\n",
    "# for idx in range(1,level_num):\n",
    "#     plt.plot(phi_ext, energies[:,idx] - energies[:,0], linewidth = '3')\n",
    "# for idx in range(2,level_num):\n",
    "#     plt.plot(phi_ext, energies[:,idx]-energies[:,1], linewidth = '1', linestyle = '--')\n",
    "\n",
    "res_freq = 7.1\n",
    "plt.plot(phi_ext, energies[:,3] - energies[:,0], linewidth = '3', color='y', label='03')\n",
    "plt.plot(phi_ext, (energies[:,2] - energies[:,0]), linewidth = '3', color='r', label='02')\n",
    "plt.plot(phi_ext, energies[:,2] - energies[:,1], linewidth = '3',color='b', label='12')\n",
    "plt.plot(phi_ext, energies[:,1] - energies[:,0], linewidth = '3', color='k', label='01')\n",
    "\n",
    "# plt.plot(phi_ext, (energies[:,2] - energies[:,0])/2, linewidth = '3',color='k', label='02/2')\n",
    "# plt.plot(phi_ext, energies[:,3] - energies[:,0]-res_freq, linewidth = '3')\n",
    "\n",
    "# plt.plot(phi_ext, (energies[:,2] - energies[:,1])/2, linewidth = '1', linestyle = '-.')\n",
    "# plt.plot(phi_ext, (energies[:,2] - energies[:,0])/2, linewidth = '1', linestyle = '-.')\n",
    "# plt.plot(phi_ext, (energies[:,3] - energies[:,0])/2, linewidth = '1', linestyle = '-.')\n",
    "\n",
    "# plt.axvline(x = 0.35)\n",
    "# plt.ylim([0,18])\n",
    "# plt.axhline(y=res_freq,linestyle = '--', color = 'orange')\n",
    "# print (energies[101,3]-energies[101,0])\n",
    "# plt.axvline(x=0.4,linestyle = '--', color = 'orange', linewidth = 1.0)\n",
    "# plt.axvline(x=0,linestyle = '--', color = 'orange', linewidth = 1.0)\n",
    "# plt.axvline(x=0.5,linestyle = '--', color = 'orange', linewidth = 1.0)\n",
    "# plt.grid()\n",
    "\n",
    "plt.tight_layout()\n",
    "plt.legend(fontsize=20, loc = 1)\n",
    "if 0:\n",
    "    figname = 'Ej2Ec1El1.jpg'\n",
    "    plt.savefig(figpath+figname)\n",
    "# print(energies[100,1] - energies[100,0])\n",
    "# print(energies[100,2] - energies[100,1])\n",
    "# print((energies[100,2] - energies[100,1])/2)\n",
    "# print (energies[100,2]-energies[100,1])\n",
    "\n",
    "# plt.show()"
   ],
   "metadata": {
    "collapsed": false,
    "ExecuteTime": {
     "end_time": "2023-07-31T23:12:03.209389200Z",
     "start_time": "2023-07-31T23:12:02.920082500Z"
    }
   }
  },
  {
   "cell_type": "markdown",
   "source": [
    "## Matrix element"
   ],
   "metadata": {
    "collapsed": false
   }
  },
  {
   "cell_type": "markdown",
   "source": [
    "$$\\LARGE{\n",
    "\\hat{\\phi} = \\frac{1}{\\sqrt{2}}\\left(\\frac{8E_{C}}{E_{L}} \\right)^{1/4} (\\hat{a}^{\\dagger} + a)\n",
    "}$$\n",
    "\n",
    "$$\\LARGE{\n",
    "\\hat{n} = \\frac{i}{\\sqrt{2}}\\left(\\frac{E_{L}}{8E_{C}} \\right)^{1/4} (\\hat{a}^{\\dagger} - a)\n",
    "}$$"
   ],
   "metadata": {
    "collapsed": false
   }
  },
  {
   "cell_type": "markdown",
   "source": [],
   "metadata": {
    "collapsed": false
   }
  },
  {
   "cell_type": "markdown",
   "source": [
    "Operator in the matrix form. $$\\LARGE{\n",
    "    \\hat{O}_{ij} \\equiv \\langle u_{i}| O | u_{j} \\rangle\n",
    "}\n",
    "$$\n",
    "\n",
    "$$\\LARGE{\n",
    "    \\hat{O} = \\begin{pmatrix}\n",
    "    O_{11} & O_{12} & \\cdots & O_{1j} &\\cdots \\\\\n",
    "    O_{21} & O_{22} & \\cdots & O_{2j} &\\cdots \\\\\n",
    "    \\cdots & \\cdots & \\cdots & \\cdots &\\cdots \\\\\n",
    "    O_{i1} & O_{i2} & \\cdots & O_{ij} &\\cdots \\\\\n",
    "    \\end{pmatrix}\n",
    "}\n",
    "$$"
   ],
   "metadata": {
    "collapsed": false
   }
  },
  {
   "cell_type": "markdown",
   "source": [
    "the destruction and creation operator in matrix form, here (i, j) starts from (0, 0)\n",
    "\n",
    "$$\\LARGE{\n",
    "    \\hat{a} = \\begin{pmatrix}\n",
    "    0 & \\sqrt{1} & 0 & 0 &\\cdots \\\\\n",
    "    0 & 0 & \\sqrt{2} & 0 &\\cdots \\\\\n",
    "    0 & 0 & 0 & \\sqrt{3} &\\cdots \\\\\n",
    "    \\cdots & \\cdots & \\cdots & \\cdots &\\cdots \\\\\n",
    "    0 & 0 & \\cdots & \\cdots  & \\sqrt{j}  \\\\\n",
    "    \\end{pmatrix}\n",
    "}\n",
    "$$\n",
    "\n",
    "$$\\LARGE{\n",
    "    \\hat{a}^{\\dagger} = \\begin{pmatrix}\n",
    "    0 & 0 & 0 & 0 &\\cdots \\\\\n",
    "    \\sqrt{1} & 0 & 0 & 0 &\\cdots \\\\\n",
    "    0 & \\sqrt{2} & 0 & 0 &\\cdots \\\\\n",
    "    0 & 0 & \\sqrt{3} & 0 &\\cdots \\\\\n",
    "    \\cdots & \\cdots & \\cdots & \\cdots &\\cdots \\\\\n",
    "    0 & 0 & \\cdots & \\sqrt{i} &\\cdots \\\\\n",
    "    \\end{pmatrix}\n",
    "}\n",
    "$$"
   ],
   "metadata": {
    "collapsed": false
   }
  },
  {
   "cell_type": "code",
   "execution_count": 4,
   "outputs": [],
   "source": [
    "N = 30 #number of levels\n",
    "E_J = 4 #Josephson energy, GHz\n",
    "E_C = 1 #Charging energy, GHz\n",
    "E_L = 1 #Inductive energy, GHz\n",
    "phi_ext = np.linspace(0,1,201)"
   ],
   "metadata": {
    "collapsed": false,
    "ExecuteTime": {
     "end_time": "2023-08-01T16:47:54.693447600Z",
     "start_time": "2023-08-01T16:47:54.661801200Z"
    }
   }
  },
  {
   "cell_type": "code",
   "execution_count": 5,
   "outputs": [],
   "source": [
    "toCompute = 10 #Number of transitions to compute\n",
    "n_me = np.zeros((len(phi_ext), toCompute), dtype = complex)\n",
    "p_me = np.zeros_like(n_me)\n",
    "\n",
    "for idx, phi in enumerate(phi_ext):\n",
    "    n_me[idx, 0] = fluxonium.charge_matrix_element(N, E_L, E_C, E_J, phi*2*np.pi, 0, 1)\n",
    "    n_me[idx, 1] = fluxonium.charge_matrix_element(N, E_L, E_C, E_J, phi*2*np.pi, 0, 2)\n",
    "    n_me[idx, 2] = fluxonium.charge_matrix_element(N, E_L, E_C, E_J, phi*2*np.pi, 0, 3)\n",
    "    n_me[idx, 5] = fluxonium.charge_matrix_element(N, E_L, E_C, E_J, phi*2*np.pi, 1, 2)\n",
    "\n",
    "    p_me[idx, 0] = fluxonium.phase_matrix_element(N, E_L, E_C, E_J, phi*2*np.pi, 0, 1)\n",
    "    p_me[idx, 1] = fluxonium.phase_matrix_element(N, E_L, E_C, E_J, phi*2*np.pi, 0, 2)\n",
    "    p_me[idx, 2] = fluxonium.phase_matrix_element(N, E_L, E_C, E_J, phi*2*np.pi, 0, 3)\n",
    "    p_me[idx, 5] = fluxonium.phase_matrix_element(N, E_L, E_C, E_J, phi*2*np.pi, 1, 2)"
   ],
   "metadata": {
    "collapsed": false,
    "ExecuteTime": {
     "end_time": "2023-08-01T16:49:56.188138300Z",
     "start_time": "2023-08-01T16:49:32.689224600Z"
    }
   }
  },
  {
   "cell_type": "code",
   "execution_count": 17,
   "outputs": [],
   "source": [
    "fig, (ax1, ax2) = plt.subplots(2, figsize=[9,9])\n",
    "ft = 28\n",
    "ax1.set_xlim([phi_ext[0], phi_ext[-1]])\n",
    "ax2.set_xlim([phi_ext[0], phi_ext[-1]])\n",
    "ax2.set_xlabel(r'$\\Phi_\\mathrm{ext}/\\Phi_0$', fontsize=ft)\n",
    "ax1.set_ylabel(r'$|n_{if}|$', fontsize=ft)\n",
    "ax2.set_ylabel(r'$|\\phi_{if}|$', fontsize=ft)\n",
    "ax1.tick_params(axis='both', which='major', labelsize=ft, direction ='in')\n",
    "ax2.tick_params(axis='both', which='major', labelsize=ft, direction ='in')\n",
    "\n",
    "ax1.plot(phi_ext, abs(n_me[:, 0]), linewidth = '2',label = \"0-1\", linestyle = '-',color='k')\n",
    "ax1.plot(phi_ext, abs(n_me[:, 1]), linewidth = '2',label = \"0-2\", linestyle = '-',color='b')\n",
    "ax1.plot(phi_ext, abs(n_me[:, 2]), linewidth = '2',label = \"0-3\", linestyle = '-',color='y')\n",
    "ax1.plot(phi_ext, abs(n_me[:, 5]), linewidth = '2',label = \"1-2\", linestyle = '-',color='r')\n",
    "# ax1.plot(phi_ext, abs(n_me[:, 3]), linewidth = '2',label = \"0-4\", linestyle = '--')\n",
    "# ax1.plot(phi_ext, abs(n_me[:, 4]), linewidth = '2',label = \"0-5\", linestyle = '-')\n",
    "# ax1.plot(phi_ext, abs(n_me[:, 5]), linewidth = '2',label = \"0-6\", linestyle = '-')\n",
    "# ax1.plot(phi_ext, abs(n_me[:, 6]), linewidth = '2',label = \"0-7\", linestyle = '-')\n",
    "# ax1.plot(phi_ext, abs(n_me[:, 7]), linewidth = '2',label = \"0-8\", linestyle = '-')\n",
    "# ax1.plot(phi_ext, abs(n_me[:, 8]), linewidth = '2',label = \"0-9\", linestyle = '-')\n",
    "# ax1.plot(phi_ext, abs(n_me[:, 9]), linewidth = '2',label = \"0-10\", linestyle = '-')\n",
    "\n",
    "ax2.plot(phi_ext, abs(p_me[:, 0]), linewidth = '2',label = \"0-1\", linestyle = '-',color='k')\n",
    "ax2.plot(phi_ext, abs(p_me[:, 1]), linewidth = '2',label = \"0-2\", linestyle = '-',color='b')\n",
    "ax2.plot(phi_ext, abs(p_me[:, 2]), linewidth = '2',label = \"0-3\", linestyle = '-',color='y')\n",
    "ax2.plot(phi_ext, abs(p_me[:, 5]), linewidth = '2',label = \"1-2\", linestyle = '-',color='r')\n",
    "# ax2.plot(phi_ext, abs(p_me[:, 3]), linewidth = '2',label = \"0-4\", linestyle = '--')\n",
    "# ax2.plot(phi_ext, abs(p_me[:, 4]), linewidth = '2',label = \"0-5\", linestyle = '-')\n",
    "# ax2.plot(phi_ext, abs(p_me[:, 5]), linewidth = '2',label = \"0-6\", linestyle = '-')\n",
    "# ax2.plot(phi_ext, abs(p_me[:, 6]), linewidth = '2',label = \"0-7\", linestyle = '-')\n",
    "# ax2.plot(phi_ext, abs(p_me[:, 7]), linewidth = '2',label = \"0-8\", linestyle = '-')\n",
    "# ax2.plot(phi_ext, abs(p_me[:, 8]), linewidth = '2',label = \"0-9\", linestyle = '-')\n",
    "# ax2.plot(phi_ext, abs(p_me[:, 9]), linewidth = '2',label = \"0-10\", linestyle = '-')\n",
    "\n",
    "ax1.legend(loc=1)\n",
    "ax1.grid('minor')\n",
    "ax2.legend(loc=1)\n",
    "ax2.grid('minor')\n",
    "if 0:\n",
    "    figpath = 'C:/Users/Chuanhong/OneDrive/Desktop/Projects/2023Fluxonium/Fluxonium_berkeley_repository_learning/MatrixElement/'\n",
    "    figname = 'Ej4Ec1El1ChargePhaseMatrixElement.pdf'\n",
    "    plt.savefig(figpath+figname)"
   ],
   "metadata": {
    "collapsed": false,
    "ExecuteTime": {
     "end_time": "2023-08-01T17:03:34.135259Z",
     "start_time": "2023-08-01T17:03:33.889117300Z"
    }
   }
  },
  {
   "cell_type": "markdown",
   "source": [
    "## Explore specific matrix elements"
   ],
   "metadata": {
    "collapsed": false
   }
  },
  {
   "cell_type": "code",
   "execution_count": 18,
   "outputs": [],
   "source": [
    "toCompute = 10 #Number of transitions to compute\n",
    "n_me = np.zeros((len(phi_ext), toCompute), dtype = complex)\n",
    "p_me = np.zeros_like(n_me)\n",
    "\n",
    "\n",
    "for idx, phi in enumerate(phi_ext):\n",
    "    n_me[idx, 0] = fluxonium.charge_matrix_element(N, E_L, E_C, E_J, phi*2*np.pi, 0, 1)\n",
    "    n_me[idx, 1] = fluxonium.charge_matrix_element(N, E_L, E_C, E_J, phi*2*np.pi, 0, 2)\n",
    "    n_me[idx, 2] = fluxonium.charge_matrix_element(N, E_L, E_C, E_J, phi*2*np.pi, 0, 3)\n",
    "    n_me[idx, 3] = fluxonium.charge_matrix_element(N, E_L, E_C, E_J, phi*2*np.pi, 1, 2)\n",
    "    n_me[idx, 4] = fluxonium.charge_matrix_element(N, E_L, E_C, E_J, phi*2*np.pi, 1, 3)\n",
    "    n_me[idx, 5] = fluxonium.charge_matrix_element(N, E_L, E_C, E_J, phi*2*np.pi, 2, 3)\n",
    "\n",
    "    p_me[idx, 0] = fluxonium.phase_matrix_element(N, E_L, E_C, E_J, phi*2*np.pi, 0, 1)\n",
    "    p_me[idx, 1] = fluxonium.phase_matrix_element(N, E_L, E_C, E_J, phi*2*np.pi, 0, 2)\n",
    "    p_me[idx, 2] = fluxonium.phase_matrix_element(N, E_L, E_C, E_J, phi*2*np.pi, 0, 3)\n",
    "    p_me[idx, 3] = fluxonium.phase_matrix_element(N, E_L, E_C, E_J, phi*2*np.pi, 1, 2)\n",
    "    p_me[idx, 4] = fluxonium.phase_matrix_element(N, E_L, E_C, E_J, phi*2*np.pi, 1, 3)\n",
    "    p_me[idx, 5] = fluxonium.phase_matrix_element(N, E_L, E_C, E_J, phi*2*np.pi, 2, 3)"
   ],
   "metadata": {
    "collapsed": false,
    "ExecuteTime": {
     "end_time": "2023-08-01T17:22:48.712154100Z",
     "start_time": "2023-08-01T17:22:00.741165400Z"
    }
   }
  },
  {
   "cell_type": "code",
   "execution_count": 24,
   "outputs": [
    {
     "ename": "IndexError",
     "evalue": "too many indices for array: array is 1-dimensional, but 2 were indexed",
     "output_type": "error",
     "traceback": [
      "\u001B[1;31m---------------------------------------------------------------------------\u001B[0m",
      "\u001B[1;31mIndexError\u001B[0m                                Traceback (most recent call last)",
      "Cell \u001B[1;32mIn[24], line 11\u001B[0m\n\u001B[0;32m      8\u001B[0m level_num \u001B[38;5;241m=\u001B[39m toCompute\n\u001B[0;32m     10\u001B[0m \u001B[38;5;28;01mfor\u001B[39;00m idx \u001B[38;5;129;01min\u001B[39;00m \u001B[38;5;28mrange\u001B[39m(\u001B[38;5;241m1\u001B[39m,level_num):\n\u001B[1;32m---> 11\u001B[0m     ax1\u001B[38;5;241m.\u001B[39mplot(phi_ext, \u001B[43menergies\u001B[49m\u001B[43m[\u001B[49m\u001B[43m:\u001B[49m\u001B[43m,\u001B[49m\u001B[43midx\u001B[49m\u001B[43m]\u001B[49m\u001B[38;5;241m-\u001B[39menergies[:,\u001B[38;5;241m0\u001B[39m], linewidth \u001B[38;5;241m=\u001B[39m \u001B[38;5;124m'\u001B[39m\u001B[38;5;124m3\u001B[39m\u001B[38;5;124m'\u001B[39m)\n\u001B[0;32m     13\u001B[0m ax2\u001B[38;5;241m.\u001B[39mplot(phi_ext, \u001B[38;5;28mabs\u001B[39m(n_me[:, \u001B[38;5;241m0\u001B[39m]), linewidth \u001B[38;5;241m=\u001B[39m \u001B[38;5;124m'\u001B[39m\u001B[38;5;124m2\u001B[39m\u001B[38;5;124m'\u001B[39m,label \u001B[38;5;241m=\u001B[39m \u001B[38;5;124m\"\u001B[39m\u001B[38;5;124m0-1\u001B[39m\u001B[38;5;124m\"\u001B[39m, linestyle \u001B[38;5;241m=\u001B[39m \u001B[38;5;124m'\u001B[39m\u001B[38;5;124m-\u001B[39m\u001B[38;5;124m'\u001B[39m)\n\u001B[0;32m     14\u001B[0m ax2\u001B[38;5;241m.\u001B[39mplot(phi_ext, \u001B[38;5;28mabs\u001B[39m(n_me[:, \u001B[38;5;241m1\u001B[39m]), linewidth \u001B[38;5;241m=\u001B[39m \u001B[38;5;124m'\u001B[39m\u001B[38;5;124m2\u001B[39m\u001B[38;5;124m'\u001B[39m,label \u001B[38;5;241m=\u001B[39m \u001B[38;5;124m\"\u001B[39m\u001B[38;5;124m0-2\u001B[39m\u001B[38;5;124m\"\u001B[39m, linestyle \u001B[38;5;241m=\u001B[39m \u001B[38;5;124m'\u001B[39m\u001B[38;5;124m-\u001B[39m\u001B[38;5;124m'\u001B[39m)\n",
      "\u001B[1;31mIndexError\u001B[0m: too many indices for array: array is 1-dimensional, but 2 were indexed"
     ]
    }
   ],
   "source": [
    "fig, (ax1, ax2, ax3) = plt.subplots(3, figsize=[9,12])\n",
    "ax1.set_xlim([phi_ext[0], phi_ext[-1]])\n",
    "ax1.set_xlim([phi_ext[0], phi_ext[-1]])\n",
    "ax3.set_xlabel(r'$\\Phi_\\mathrm{ext}/\\Phi_0$')\n",
    "ax2.set_ylabel(r'$|n_{if}|$')\n",
    "ax3.set_ylabel(r'$|\\phi_{if}|$')\n",
    "ax1.set_ylabel('Frequency (GHz)')\n",
    "level_num = toCompute\n",
    "\n",
    "for idx in range(1,level_num):\n",
    "    ax1.plot(phi_ext, energies[:,idx]-energies[:,0], linewidth = '3')\n",
    "\n",
    "ax2.plot(phi_ext, abs(n_me[:, 0]), linewidth = '2',label = \"0-1\", linestyle = '-')\n",
    "ax2.plot(phi_ext, abs(n_me[:, 1]), linewidth = '2',label = \"0-2\", linestyle = '-')\n",
    "ax2.plot(phi_ext, abs(n_me[:, 2]), linewidth = '2',label = \"0-3\", linestyle = '-')\n",
    "ax2.plot(phi_ext, abs(n_me[:, 3]), linewidth = '2',label = \"1-2\", linestyle = '--')\n",
    "ax2.plot(phi_ext, abs(n_me[:, 4]), linewidth = '2',label = \"1-3\", linestyle = '--')\n",
    "\n",
    "ax3.plot(phi_ext, abs(p_me[:, 0]), linewidth = '2',label = \"0-1\", linestyle = '-')\n",
    "ax3.plot(phi_ext, abs(p_me[:, 1]), linewidth = '2',label = \"0-2\", linestyle = '-')\n",
    "ax3.plot(phi_ext, abs(p_me[:, 2]), linewidth = '2',label = \"0-3\", linestyle = '-')\n",
    "ax3.plot(phi_ext, abs(p_me[:, 3]), linewidth = '2',label = \"1-2\", linestyle = '--')\n",
    "ax3.plot(phi_ext, abs(p_me[:, 4]), linewidth = '2',label = \"1-3\", linestyle = '--')\n",
    "\n",
    "ax1.set_ylim([0,10])\n",
    "ax2.legend(loc='best')\n",
    "ax2.grid('minor')\n",
    "ax3.legend(loc='right')\n",
    "ax3.grid('minor')\n",
    "ax3.set_ylim([0,2])\n",
    "print(abs(n_me[80, 0]))"
   ],
   "metadata": {
    "collapsed": false,
    "ExecuteTime": {
     "end_time": "2023-08-01T17:26:13.875479500Z",
     "start_time": "2023-08-01T17:26:13.651730500Z"
    }
   }
  },
  {
   "cell_type": "code",
   "execution_count": 19,
   "outputs": [
    {
     "name": "stdout",
     "output_type": "stream",
     "text": [
      "0.0\n",
      "0.0\n",
      "0.0\n",
      "0.0\n",
      "0.6361003200594698\n",
      "1.8678409677646572\n",
      "0.38023092905869277\n",
      "1.401393155998984\n",
      "0.22391844196849972\n",
      "0.23140621407887713\n"
     ]
    }
   ],
   "source": [
    "print(abs(n_me[100, 1]))\n",
    "print(abs(p_me[100, 1]))\n",
    "\n",
    "print(abs(n_me[100, 4]))\n",
    "print(abs(p_me[100, 4]))\n",
    "\n",
    "print(abs(n_me[100, 5]))\n",
    "print(abs(p_me[80, 5]))\n",
    "\n",
    "print(abs(n_me[80, 3]))\n",
    "print(abs(p_me[80, 3]))\n",
    "\n",
    "print(abs(n_me[80, 2]))\n",
    "print(abs(p_me[80, 2]))"
   ],
   "metadata": {
    "collapsed": false,
    "ExecuteTime": {
     "end_time": "2023-08-01T17:22:48.727759400Z",
     "start_time": "2023-08-01T17:22:48.712154100Z"
    }
   }
  },
  {
   "cell_type": "code",
   "execution_count": 25,
   "outputs": [],
   "source": [
    "H = fluxonium.bare_hamiltonian(N, E_L, E_C, E_J, np.pi)\n",
    "energies = H.eigenenergies()\n",
    "\n",
    "p_me_array = np.zeros((11,2))\n",
    "n_me_array = np.zeros((11,2))\n",
    "\n",
    "p_me_array[0,0] = energies[1] - energies[0]\n",
    "p_me_array[1,0] = energies[2] - energies[0]\n",
    "p_me_array[2,0] = energies[3] - energies[0]\n",
    "p_me_array[3,0] = energies[4] - energies[0]\n",
    "p_me_array[4,0] = energies[5] - energies[0]\n",
    "p_me_array[5,0] = energies[6] - energies[0]\n",
    "p_me_array[6,0] = energies[2] - energies[1]\n",
    "p_me_array[7,0] = energies[3] - energies[1]\n",
    "p_me_array[8,0] = energies[4] - energies[1]\n",
    "p_me_array[9,0] = energies[5] - energies[1]\n",
    "p_me_array[10,0] = energies[6] - energies[1]\n",
    "\n",
    "n_me_array[0,0] = energies[1] - energies[0]\n",
    "n_me_array[1,0] = energies[2] - energies[0]\n",
    "n_me_array[2,0] = energies[3] - energies[0]\n",
    "n_me_array[3,0] = energies[4] - energies[0]\n",
    "n_me_array[4,0] = energies[5] - energies[0]\n",
    "n_me_array[5,0] = energies[6] - energies[0]\n",
    "n_me_array[6,0] = energies[2] - energies[1]\n",
    "n_me_array[7,0] = energies[3] - energies[1]\n",
    "n_me_array[8,0] = energies[4] - energies[1]\n",
    "n_me_array[9,0] = energies[5] - energies[1]\n",
    "n_me_array[10,0] = energies[6] - energies[1]\n",
    "\n",
    "\n",
    "p_me_array[0,1] = np.abs(fluxonium.phase_matrix_element(N, E_L, E_C, E_J, np.pi, 0, 1))\n",
    "p_me_array[1,1] = np.abs(fluxonium.phase_matrix_element(N, E_L, E_C, E_J, np.pi, 0, 2))\n",
    "p_me_array[2,1] = np.abs(fluxonium.phase_matrix_element(N, E_L, E_C, E_J, np.pi, 0, 3))\n",
    "p_me_array[3,1] = np.abs(fluxonium.phase_matrix_element(N, E_L, E_C, E_J, np.pi, 0, 4))\n",
    "p_me_array[4,1] = np.abs(fluxonium.phase_matrix_element(N, E_L, E_C, E_J, np.pi, 0, 5))\n",
    "p_me_array[5,1] = np.abs(fluxonium.phase_matrix_element(N, E_L, E_C, E_J, np.pi, 0, 6))\n",
    "p_me_array[6,1] = np.abs(fluxonium.phase_matrix_element(N, E_L, E_C, E_J, np.pi, 1, 2))\n",
    "p_me_array[7,1] = np.abs(fluxonium.phase_matrix_element(N, E_L, E_C, E_J, np.pi, 1, 3))\n",
    "p_me_array[8,1] = np.abs(fluxonium.phase_matrix_element(N, E_L, E_C, E_J, np.pi, 1, 4))\n",
    "p_me_array[9,1] = np.abs(fluxonium.phase_matrix_element(N, E_L, E_C, E_J, np.pi, 1, 5))\n",
    "p_me_array[10,1] = np.abs(fluxonium.phase_matrix_element(N, E_L, E_C, E_J, np.pi, 1, 6))\n",
    "\n",
    "\n",
    "\n",
    "n_me_array[0,1] = np.abs(fluxonium.charge_matrix_element(N, E_L, E_C, E_J, np.pi, 0, 1))\n",
    "n_me_array[1,1] = np.abs(fluxonium.charge_matrix_element(N, E_L, E_C, E_J, np.pi, 0, 2))\n",
    "n_me_array[2,1] = np.abs(fluxonium.charge_matrix_element(N, E_L, E_C, E_J, np.pi, 0, 3))\n",
    "n_me_array[3,1] = np.abs(fluxonium.charge_matrix_element(N, E_L, E_C, E_J, np.pi, 0, 4))\n",
    "n_me_array[4,1] = np.abs(fluxonium.charge_matrix_element(N, E_L, E_C, E_J, np.pi, 0, 5))\n",
    "n_me_array[5,1] = np.abs(fluxonium.charge_matrix_element(N, E_L, E_C, E_J, np.pi, 0, 6))\n",
    "n_me_array[6,1] = np.abs(fluxonium.charge_matrix_element(N, E_L, E_C, E_J, np.pi, 1, 2))\n",
    "n_me_array[7,1] = np.abs(fluxonium.charge_matrix_element(N, E_L, E_C, E_J, np.pi, 1, 3))\n",
    "n_me_array[8,1] = np.abs(fluxonium.charge_matrix_element(N, E_L, E_C, E_J, np.pi, 1, 4))\n",
    "n_me_array[9,1] = np.abs(fluxonium.charge_matrix_element(N, E_L, E_C, E_J, np.pi, 1, 5))\n",
    "n_me_array[10,1] = np.abs(fluxonium.charge_matrix_element(N, E_L, E_C, E_J, np.pi, 1, 6))\n",
    "\n",
    "# print (n_me_array)\n",
    "fig, [ax1, ax2] = plt.subplots(1,2)\n",
    "fig.set_figheight(3.7)\n",
    "fig.set_figwidth(5.6)\n",
    "\n",
    "for idx in range(11):\n",
    "    cstring = 'C' + str(idx)\n",
    "    ax1.axhline(y = n_me_array[idx,0], xmax = n_me_array[idx,1], linestyle = '--', linewidth = 1, color = cstring)\n",
    "    ax1.errorbar(n_me_array[idx,1], n_me_array[idx,0], fmt = 'd', mfc = 'none', mew = 2.0)\n",
    "ax1.set_xlim([-0.02,1])\n",
    "ax1.set_ylim([0,14.5])\n",
    "# ax1.set_xlabel(r'$|\\langle i|n|j\\rangle |$')\n",
    "ax1.set_ylabel(r'$\\omega_{ij}/2\\pi~(\\mathrm{GHz})$')\n",
    "ax1.text(n_me_array[0,1]+0.04,n_me_array[0,0]+0.2,'0-1',style='italic', fontsize = 'x-large')\n",
    "ax1.text(n_me_array[1,1]+0.06,n_me_array[1,0],'0-2',style='italic', fontsize = 'x-large')\n",
    "ax1.text(n_me_array[2,1]+0.04,n_me_array[2,0]+0.2,'0-3',style='italic', fontsize = 'x-large')\n",
    "ax1.text(n_me_array[3,1]+0.04,n_me_array[3,0]+0.1,'0-4',style='italic', fontsize = 'x-large')\n",
    "ax1.text(n_me_array[4,1]+0.04,n_me_array[4,0],'0-5',style='italic', fontsize = 'x-large')\n",
    "# ax1.text(n_me_array[5,1],n_me_array[5,0]+0.2,'0-6')\n",
    "ax1.text(n_me_array[6,1]+0.04,n_me_array[6,0]+0.2,'1-2',style='italic', fontsize = 'x-large')\n",
    "ax1.text(n_me_array[7,1]+0.04,n_me_array[7,0]-0.3,'1-3',style='italic', fontsize = 'x-large')\n",
    "ax1.text(n_me_array[8,1]+0.04,n_me_array[8,0]-0.2,'1-4',style='italic', fontsize = 'x-large')\n",
    "ax1.text(n_me_array[9,1]+0.04,n_me_array[9,0]-0.35,'1-5',style='italic', fontsize = 'x-large')\n",
    "# ax1.text(n_me_array[10,1],n_me_array[10,0]+0.2,'1-6')\n",
    "\n",
    "for idx in range(11):\n",
    "    cstring = 'C' + str(idx)\n",
    "    ax2.axhline(y = p_me_array[idx,0], xmax = p_me_array[idx,1]/3, linestyle = '--', linewidth = 1, color = cstring)\n",
    "    ax2.errorbar(p_me_array[idx,1], p_me_array[idx,0], fmt = 'd', mfc = 'none', mew = 2.0)\n",
    "ax2.set_xticks([0,3])\n",
    "ax2.set_xlim([-0.06,3.01])\n",
    "ax2.set_ylim([0,14.5])\n",
    "# ax2.set_xlabel(r'$|\\langle i|\\varphi|j\\rangle |$')\n",
    "ax2.text(p_me_array[0,1]+0.1,p_me_array[0,0]+0.35,'0-1',style='italic', fontsize = 'x-large')\n",
    "ax2.text(p_me_array[1,1]+0.2,p_me_array[1,0],'0-2',style='italic', fontsize = 'x-large')\n",
    "ax2.text(p_me_array[2,1]+0.1,p_me_array[2,0]+0.1,'0-3',style='italic', fontsize = 'x-large')\n",
    "ax2.text(p_me_array[3,1]+0.1,p_me_array[3,0],'0-4',style='italic', fontsize = 'x-large')\n",
    "ax2.text(p_me_array[4,1]+0.1,p_me_array[4,0],'0-5',style='italic', fontsize = 'x-large')\n",
    "# ax2.text(n_me_array[5,1],n_me_array[5,0]+0.2,'0-6')\n",
    "ax2.text(p_me_array[6,1]+0.1,p_me_array[6,0]+0.2,'1-2',style='italic', fontsize = 'x-large')\n",
    "ax2.text(p_me_array[7,1]+0.07,p_me_array[7,0]-0.5,'1-3',style='italic', fontsize = 'x-large')\n",
    "ax2.text(p_me_array[8,1]+0.1,p_me_array[8,0]-0.3,'1-4',style='italic', fontsize = 'x-large')\n",
    "ax2.text(p_me_array[9,1]+0.1,p_me_array[9,0]-0.35,'1-5',style='italic', fontsize = 'x-large')\n",
    "# ax1.text(n_me_array[10,1],n_me_array[10,0]+0.2,'1-6')\n",
    "\n",
    "fig.tight_layout()\n",
    "\n",
    "if 1:\n",
    "    figname = 'Ej4Ec1El1_np_me_sweetspot.pdf'\n",
    "    plt.savefig(figpath+figname)"
   ],
   "metadata": {
    "collapsed": false,
    "ExecuteTime": {
     "end_time": "2023-08-01T17:27:35.517162500Z",
     "start_time": "2023-08-01T17:27:34.777537700Z"
    }
   }
  },
  {
   "cell_type": "code",
   "execution_count": null,
   "outputs": [],
   "source": [],
   "metadata": {
    "collapsed": false
   }
  }
 ],
 "metadata": {
  "kernelspec": {
   "display_name": "Python 3",
   "language": "python",
   "name": "python3"
  },
  "language_info": {
   "codemirror_mode": {
    "name": "ipython",
    "version": 2
   },
   "file_extension": ".py",
   "mimetype": "text/x-python",
   "name": "python",
   "nbconvert_exporter": "python",
   "pygments_lexer": "ipython2",
   "version": "2.7.6"
  }
 },
 "nbformat": 4,
 "nbformat_minor": 0
}
