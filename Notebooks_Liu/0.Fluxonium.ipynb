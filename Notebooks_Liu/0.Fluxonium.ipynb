{
 "cells": [
  {
   "cell_type": "markdown",
   "source": [
    "# To learn fundamentals of fluxonium parameter"
   ],
   "metadata": {
    "collapsed": false
   }
  },
  {
   "cell_type": "code",
   "execution_count": 6,
   "outputs": [],
   "source": [
    "import numpy as np\n",
    "import scipy.constants as cs\n",
    "from matplotlib import pyplot as plt\n",
    "from qutip import*\n",
    "from scipy.special import eval_hermite as hpoly\n",
    "import scipy.constants as cst\n",
    "import sys\n",
    "\n",
    "from Fluxonium_hamiltonians import Single_small_junction as fluxonium\n",
    "import matplotlib as mpl"
   ],
   "metadata": {
    "collapsed": false,
    "ExecuteTime": {
     "end_time": "2023-07-31T22:06:01.025787600Z",
     "start_time": "2023-07-31T22:06:00.990416200Z"
    }
   }
  },
  {
   "cell_type": "code",
   "execution_count": 7,
   "outputs": [],
   "source": [
    "# %matplotlib inline # plot the figure inside the Jupyter Notebook\n",
    "%matplotlib tk\n",
    "# plot the figure in a pop out window. It looks very big"
   ],
   "metadata": {
    "collapsed": false,
    "ExecuteTime": {
     "end_time": "2023-07-31T22:06:01.179899600Z",
     "start_time": "2023-07-31T22:06:01.025787600Z"
    }
   }
  },
  {
   "cell_type": "markdown",
   "source": [
    "## This is going to describe the three parameters from fluxonium based on design\n",
    "$$\\LARGE{\\hat{H}/\\hbar = 4E_{C} -E_{J}\\cos{\\hat\\phi}+\\frac{1}{2}E_{L}(\\hat\\phi+\\phi_{\\rm ext})^2}$$, where\n",
    "\n",
    "$$\\LARGE{E_{c} = \\frac{e^2}{2C}}$$, C is the total capacitance\n",
    "$$\\LARGE{E_{J} = \\frac{I_{0s}\\Phi_0}{2\\pi}}$$, $I_{0s}$ is the critical current of the small junction\n",
    "$$\\LARGE{E_{L} = \\frac{I_{0a}\\Phi_0}{N\\times 2\\pi}}$$ $I_{0a}$ is the critical current of one junction of the JJ array and N is the number of the junctions in the JJ array"
   ],
   "metadata": {
    "collapsed": false
   }
  },
  {
   "cell_type": "code",
   "execution_count": 44,
   "outputs": [],
   "source": [
    "# Ec, Ej, El, in units of GHz, get the spectrum\n",
    "N = 30 #number of levels\n",
    "E_J = 4 #Josephson energy, GHz\n",
    "E_C = 1 #Charging energy, GHz\n",
    "E_L = 1 #Inductive energy, GHz\n",
    "level_num = 10\n",
    "phi_ext = np.linspace(0,1,201)\n",
    "energies = np.zeros((len(phi_ext), level_num))\n",
    "states = np.zeros((len(phi_ext), level_num, N))\n",
    "max_display_y = 10"
   ],
   "metadata": {
    "collapsed": false,
    "ExecuteTime": {
     "end_time": "2023-07-31T23:06:20.060807Z",
     "start_time": "2023-07-31T23:06:20.038171400Z"
    }
   }
  },
  {
   "cell_type": "code",
   "execution_count": 45,
   "outputs": [],
   "source": [
    "for idx, phi in enumerate(phi_ext):\n",
    "    H = fluxonium.bare_hamiltonian(N, E_L, E_C, E_J, phi*2*np.pi)\n",
    "    energies[idx, :] = H.eigenenergies()[:level_num]"
   ],
   "metadata": {
    "collapsed": false,
    "ExecuteTime": {
     "end_time": "2023-07-31T23:06:22.352346Z",
     "start_time": "2023-07-31T23:06:20.399928600Z"
    }
   }
  },
  {
   "cell_type": "code",
   "execution_count": 46,
   "outputs": [],
   "source": [
    "figpath = 'C:/Users/Chuanhong/OneDrive/Desktop/Projects/2023Fluxonium/Fluxonium_berkeley_repository_learning/FluxoniumSpectrum/'"
   ],
   "metadata": {
    "collapsed": false,
    "ExecuteTime": {
     "end_time": "2023-07-31T23:06:22.415411700Z",
     "start_time": "2023-07-31T23:06:22.368521500Z"
    }
   }
  },
  {
   "cell_type": "code",
   "execution_count": 48,
   "outputs": [],
   "source": [
    "plt.figure(figsize=[8,6])\n",
    "plt.xlim([phi_ext[0], phi_ext[-1]])\n",
    "plt.ylim([0, 10])\n",
    "ft = 28\n",
    "plt.xticks(fontsize=ft)\n",
    "plt.yticks(fontsize=ft)\n",
    "# plt.ylim([0,max_display_y])\n",
    "plt.xlabel(r'$\\varphi_\\mathrm{ext}/2\\pi$', fontsize = ft)\n",
    "plt.ylabel('Energy (GHz)', fontsize = ft)\n",
    "# plt.ylabel(r'$ \\omega_{ij}/2\\pi$  (GHz)')\n",
    "# for idx in range(1,level_num):\n",
    "#     plt.plot(phi_ext, energies[:,idx] - energies[:,0], linewidth = '3')\n",
    "# for idx in range(2,level_num):\n",
    "#     plt.plot(phi_ext, energies[:,idx]-energies[:,1], linewidth = '1', linestyle = '--')\n",
    "\n",
    "res_freq = 7.1\n",
    "plt.plot(phi_ext, energies[:,3] - energies[:,0], linewidth = '3', color='y', label='03')\n",
    "plt.plot(phi_ext, (energies[:,2] - energies[:,0]), linewidth = '3', color='r', label='02')\n",
    "plt.plot(phi_ext, energies[:,2] - energies[:,1], linewidth = '3',color='b', label='12')\n",
    "plt.plot(phi_ext, energies[:,1] - energies[:,0], linewidth = '3', color='k', label='01')\n",
    "\n",
    "# plt.plot(phi_ext, (energies[:,2] - energies[:,0])/2, linewidth = '3',color='k', label='02/2')\n",
    "# plt.plot(phi_ext, energies[:,3] - energies[:,0]-res_freq, linewidth = '3')\n",
    "\n",
    "# plt.plot(phi_ext, (energies[:,2] - energies[:,1])/2, linewidth = '1', linestyle = '-.')\n",
    "# plt.plot(phi_ext, (energies[:,2] - energies[:,0])/2, linewidth = '1', linestyle = '-.')\n",
    "# plt.plot(phi_ext, (energies[:,3] - energies[:,0])/2, linewidth = '1', linestyle = '-.')\n",
    "\n",
    "# plt.axvline(x = 0.35)\n",
    "# plt.ylim([0,18])\n",
    "# plt.axhline(y=res_freq,linestyle = '--', color = 'orange')\n",
    "# print (energies[101,3]-energies[101,0])\n",
    "# plt.axvline(x=0.4,linestyle = '--', color = 'orange', linewidth = 1.0)\n",
    "# plt.axvline(x=0,linestyle = '--', color = 'orange', linewidth = 1.0)\n",
    "# plt.axvline(x=0.5,linestyle = '--', color = 'orange', linewidth = 1.0)\n",
    "# plt.grid()\n",
    "\n",
    "plt.tight_layout()\n",
    "plt.legend(fontsize=20, loc = 1)\n",
    "if 1:\n",
    "    figname = 'Ej2Ec1El1.jpg'\n",
    "    plt.savefig(figpath+figname)\n",
    "# print(energies[100,1] - energies[100,0])\n",
    "# print(energies[100,2] - energies[100,1])\n",
    "# print((energies[100,2] - energies[100,1])/2)\n",
    "# print (energies[100,2]-energies[100,1])\n",
    "\n",
    "# plt.show()"
   ],
   "metadata": {
    "collapsed": false,
    "ExecuteTime": {
     "end_time": "2023-07-31T23:12:03.209389200Z",
     "start_time": "2023-07-31T23:12:02.920082500Z"
    }
   }
  },
  {
   "cell_type": "markdown",
   "source": [
    "## Matrix element"
   ],
   "metadata": {
    "collapsed": false
   }
  },
  {
   "cell_type": "markdown",
   "source": [
    "$$\\LARGE{\n",
    "\\hat{\\phi} = \\frac{1}{\\sqrt{2}}\\left(\\frac{8E_{C}}{E_{L}} \\right)^{1/4} (\\hat{a}^{\\dagger} + a)\n",
    "}$$\n",
    "\n",
    "$$\\LARGE{\n",
    "\\hat{n} = \\frac{i}{\\sqrt{2}}\\left(\\frac{E_{L}}{8E_{C}} \\right)^{1/4} (\\hat{a}^{\\dagger} - a)\n",
    "}$$"
   ],
   "metadata": {
    "collapsed": false
   }
  },
  {
   "cell_type": "markdown",
   "source": [],
   "metadata": {
    "collapsed": false
   }
  },
  {
   "cell_type": "markdown",
   "source": [
    "Operator in the matrix form. $$\\LARGE{\n",
    "    \\hat{O}_{ij} \\equiv \\langle u_{i}| O | u_{j} \\rangle\n",
    "}\n",
    "$$\n",
    "\n",
    "$$\\LARGE{\n",
    "    \\hat{O} = \\begin{pmatrix}\n",
    "    O_{11} & O_{12} & \\cdots & O_{1j} &\\cdots \\\\\n",
    "    O_{21} & O_{22} & \\cdots & O_{2j} &\\cdots \\\\\n",
    "    \\cdots & \\cdots & \\cdots & \\cdots &\\cdots \\\\\n",
    "    O_{i1} & O_{i2} & \\cdots & O_{ij} &\\cdots \\\\\n",
    "    \\end{pmatrix}\n",
    "}\n",
    "$$"
   ],
   "metadata": {
    "collapsed": false
   }
  },
  {
   "cell_type": "markdown",
   "source": [
    "the destruction and creation operator in matrix form, here (i, j) starts from (0, 0)\n",
    "\n",
    "$$\\LARGE{\n",
    "    \\hat{a} = \\begin{pmatrix}\n",
    "    0 & \\sqrt{1} & 0 & 0 &\\cdots \\\\\n",
    "    0 & 0 & \\sqrt{2} & 0 &\\cdots \\\\\n",
    "    0 & 0 & 0 & \\sqrt{3} &\\cdots \\\\\n",
    "    \\cdots & \\cdots & \\cdots & \\cdots &\\cdots \\\\\n",
    "    0 & 0 & \\cdots & \\cdots  & \\sqrt{j}  \\\\\n",
    "    \\end{pmatrix}\n",
    "}\n",
    "$$\n",
    "\n",
    "$$\\LARGE{\n",
    "    \\hat{a}^{\\dagger} = \\begin{pmatrix}\n",
    "    0 & 0 & 0 & 0 &\\cdots \\\\\n",
    "    \\sqrt{1} & 0 & 0 & 0 &\\cdots \\\\\n",
    "    0 & \\sqrt{2} & 0 & 0 &\\cdots \\\\\n",
    "    0 & 0 & \\sqrt{3} & 0 &\\cdots \\\\\n",
    "    \\cdots & \\cdots & \\cdots & \\cdots &\\cdots \\\\\n",
    "    0 & 0 & \\cdots & \\sqrt{i} &\\cdots \\\\\n",
    "    \\end{pmatrix}\n",
    "}\n",
    "$$"
   ],
   "metadata": {
    "collapsed": false
   }
  },
  {
   "cell_type": "code",
   "execution_count": 2,
   "outputs": [],
   "source": [
    "N = 30 #number of levels\n",
    "E_J = 4 #Josephson energy, GHz\n",
    "E_C = 1 #Charging energy, GHz\n",
    "E_L = 1 #Inductive energy, GHz"
   ],
   "metadata": {
    "collapsed": false,
    "ExecuteTime": {
     "end_time": "2023-07-31T19:21:46.401834800Z",
     "start_time": "2023-07-31T19:21:46.386208900Z"
    }
   }
  },
  {
   "cell_type": "code",
   "execution_count": 5,
   "outputs": [
    {
     "name": "stdout",
     "output_type": "stream",
     "text": [
      "destroy(N)= Quantum object: dims = [[3], [3]], shape = (3, 3), type = oper, isherm = False\n",
      "Qobj data =\n",
      "[[0.         1.         0.        ]\n",
      " [0.         0.         1.41421356]\n",
      " [0.         0.         0.        ]]\n",
      "a= Quantum object: dims = [[3], [3]], shape = (3, 3), type = oper, isherm = False\n",
      "Qobj data =\n",
      "[[0.         1.         0.        ]\n",
      " [0.         0.         1.41421356]\n",
      " [0.         0.         0.        ]]\n",
      "phi= Quantum object: dims = [[3], [3]], shape = (3, 3), type = oper, isherm = True\n",
      "Qobj data =\n",
      "[[0.         1.18920712 0.        ]\n",
      " [1.18920712 0.         1.68179283]\n",
      " [0.         1.68179283 0.        ]]\n",
      "na= Quantum object: dims = [[3], [3]], shape = (3, 3), type = oper, isherm = True\n",
      "Qobj data =\n",
      "[[0.+0.j         0.-0.42044821j 0.+0.j        ]\n",
      " [0.+0.42044821j 0.+0.j         0.-0.59460356j]\n",
      " [0.+0.j         0.+0.59460356j 0.+0.j        ]]\n",
      "ope= Quantum object: dims = [[3], [3]], shape = (3, 3), type = oper, isherm = False\n",
      "Qobj data =\n",
      "[[0.+0.5j        0.+1.18920712j 0.+0.j        ]\n",
      " [0.+1.18920712j 0.+0.5j        0.+1.68179283j]\n",
      " [0.+0.j         0.+1.68179283j 0.+0.5j       ]]\n",
      "eigen_energies= [-1.70799254  3.08065611  6.90001505]\n",
      "eigen_states= [Quantum object: dims = [[3], [1]], shape = (3, 1), type = ket\n",
      " Qobj data =\n",
      " [[ 0.88143008]\n",
      "  [-0.02760405]\n",
      "  [-0.47150719]]\n",
      " Quantum object: dims = [[3], [1]], shape = (3, 1), type = ket\n",
      " Qobj data =\n",
      " [[ 0.39259331]\n",
      "  [-0.51218647]\n",
      "  [ 0.76389496]]\n",
      " Quantum object: dims = [[3], [1]], shape = (3, 1), type = ket\n",
      " Qobj data =\n",
      " [[-0.2625862 ]\n",
      "  [-0.85843057]\n",
      "  [-0.4406194 ]]                                              ]\n"
     ]
    },
    {
     "data": {
      "text/plain": "(-0.17907396992932306+0j)"
     },
     "execution_count": 5,
     "metadata": {},
     "output_type": "execute_result"
    }
   ],
   "source": [
    "p_me = fluxonium.phase_matrix_element_Liu(3, 1, 1, 4, 0.5, 0, 1)\n",
    "p_me"
   ],
   "metadata": {
    "collapsed": false,
    "ExecuteTime": {
     "end_time": "2023-07-31T19:48:11.746087800Z",
     "start_time": "2023-07-31T19:48:11.706721200Z"
    }
   }
  },
  {
   "cell_type": "code",
   "execution_count": null,
   "outputs": [],
   "source": [],
   "metadata": {
    "collapsed": false
   }
  }
 ],
 "metadata": {
  "kernelspec": {
   "display_name": "Python 3",
   "language": "python",
   "name": "python3"
  },
  "language_info": {
   "codemirror_mode": {
    "name": "ipython",
    "version": 2
   },
   "file_extension": ".py",
   "mimetype": "text/x-python",
   "name": "python",
   "nbconvert_exporter": "python",
   "pygments_lexer": "ipython2",
   "version": "2.7.6"
  }
 },
 "nbformat": 4,
 "nbformat_minor": 0
}
