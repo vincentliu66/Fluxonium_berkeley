{
 "cells": [
  {
   "cell_type": "markdown",
   "source": [
    "### Calculate the T1 purcell loss of fluxonium due to flux line coupling"
   ],
   "metadata": {
    "collapsed": false
   },
   "id": "5b573a514c362ce2"
  },
  {
   "cell_type": "code",
   "execution_count": 29,
   "outputs": [],
   "source": [
    "import numpy as np\n",
    "from scipy.constants import pi, e, h"
   ],
   "metadata": {
    "collapsed": false,
    "ExecuteTime": {
     "end_time": "2023-10-12T19:13:55.651192200Z",
     "start_time": "2023-10-12T19:13:55.640660300Z"
    }
   },
   "id": "e27a8a5eb10fe9f0"
  },
  {
   "cell_type": "markdown",
   "source": [
    "## This is from the Russian paper\n",
    "Appl. Phys. Lett. 119, 194001 (2021); doi: 10.1063/5.0064800\n",
    "\n",
    "$$\\LARGE{\n",
    "\\gamma = \\omega \\frac{R_{Q}}{2Z_0} \\left( \\frac{M}{L} \\right)^2 |\\langle 0 |\\theta| 1 \\rangle|^2\n",
    "}$$\n",
    "\n",
    "$$\\LARGE{\n",
    " R_{Q} =\\frac{h}{e^2} =25.8 ~\\rm k\\Omega\n",
    "}$$ is the von Klitzing constant\n",
    "\n",
    "$$\\LARGE{ Z_0 = 50 ~ \\Omega\n",
    "}$$ is the control line impedance,\n",
    "\n",
    "$$\\LARGE{ \\langle 0 |\\theta| 1 \\rangle\n",
    "}$$ is the matrix element of the fluxonium mode phase operator,"
   ],
   "metadata": {
    "collapsed": false
   },
   "id": "a045efda3d271df6"
  },
  {
   "cell_type": "code",
   "execution_count": 32,
   "outputs": [],
   "source": [
    "def get_gamma_flux_line_purcell_decay(omega=1e9*2*pi, M=10e-12, L=300e-9, phi_me=1):\n",
    "    \"\"\"\n",
    "    \n",
    "    :param omega: angular frequency of 01\n",
    "    :param M: mutual inductance\n",
    "    :param L: total inductance\n",
    "    :param phi_me: phase matrix element of 01 transition\n",
    "    :return: the decay rate Gamma, in units of omega\n",
    "    \"\"\"\n",
    "    Rq = h/e**2 # Klitzing constant\n",
    "    Z0 = 50     # impedane of the flux line\n",
    "    gamma = omega * (Rq/(2*Z0)) * (M/L)**2 * phi_me**2\n",
    "    return gamma"
   ],
   "metadata": {
    "collapsed": false,
    "ExecuteTime": {
     "end_time": "2023-10-12T19:14:32.761734700Z",
     "start_time": "2023-10-12T19:14:32.733339900Z"
    }
   },
   "id": "9655fb84da36a25b"
  },
  {
   "cell_type": "code",
   "execution_count": 51,
   "outputs": [],
   "source": [
    "omega = 0.275e9*2*pi\n",
    "M = 2e-12\n",
    "L = 150e-9\n",
    "phi_me = 2.84\n",
    "\n",
    "gamma = get_gamma_flux_line_purcell_decay(omega, M, L, phi_me)"
   ],
   "metadata": {
    "collapsed": false,
    "ExecuteTime": {
     "end_time": "2023-10-12T22:39:36.149247Z",
     "start_time": "2023-10-12T22:39:36.120946500Z"
    }
   },
   "id": "3a52d326c5405e55"
  },
  {
   "cell_type": "code",
   "execution_count": 52,
   "outputs": [
    {
     "data": {
      "text/plain": "0.0015636445754240095"
     },
     "execution_count": 52,
     "metadata": {},
     "output_type": "execute_result"
    }
   ],
   "source": [
    "1/gamma"
   ],
   "metadata": {
    "collapsed": false,
    "ExecuteTime": {
     "end_time": "2023-10-12T22:39:36.400858400Z",
     "start_time": "2023-10-12T22:39:36.392004400Z"
    }
   },
   "id": "711d4bc524cf1747"
  },
  {
   "cell_type": "code",
   "execution_count": 47,
   "outputs": [],
   "source": [
    " "
   ],
   "metadata": {
    "collapsed": false,
    "ExecuteTime": {
     "end_time": "2023-10-12T22:39:17.526363100Z",
     "start_time": "2023-10-12T22:39:17.495988Z"
    }
   },
   "id": "e84fd68faa1596a9"
  },
  {
   "cell_type": "code",
   "execution_count": null,
   "outputs": [],
   "source": [],
   "metadata": {
    "collapsed": false
   },
   "id": "88cf9cc08bbeb9d0"
  }
 ],
 "metadata": {
  "kernelspec": {
   "display_name": "Python 3",
   "language": "python",
   "name": "python3"
  },
  "language_info": {
   "codemirror_mode": {
    "name": "ipython",
    "version": 2
   },
   "file_extension": ".py",
   "mimetype": "text/x-python",
   "name": "python",
   "nbconvert_exporter": "python",
   "pygments_lexer": "ipython2",
   "version": "2.7.6"
  }
 },
 "nbformat": 4,
 "nbformat_minor": 5
}
